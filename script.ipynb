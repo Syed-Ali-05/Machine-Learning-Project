import pandas as pd
import math
import random
df=pd.DataFrame()

# 1 rice only
for i in range(100,1001,5):
    data={
    'event':['shadi'],
    'total_people':[i],
    'city':['karachi'],
    'rice':[1],
    'curry':[0],
    'sea_food':[0],
    'bbq':[0],
    'dessert':[0],
    'dish_name':['biryani'],
    'dish_type':['rice'],
    'amount':[math.ceil((i*(random.randrange(10,12)))/100)]
    }
    dict_data= pd.DataFrame.from_dict(data)
    df=df.append(dict_data,sort=False)
    df.to_csv('deghjee.csv')
 
 # 1 rice 1 curry
 for i in range(100,1001,5):
    data={
    'event':['shadi'],
    'total_people':[i],
    'city':['karachi'],
    'rice':[1],
    'curry':[1],
    'sea_food':[0],
    'bbq':[0],
    'dessert':[0],
    'dish_name':['biryani'],
    'dish_type':['rice'],
    'amount':[math.ceil((i*(random.randrange(10,12)))/100)]
    }
    dict_data= pd.DataFrame.from_dict(data)
    df=df.append(dict_data,sort=False)
    df.to_csv('deghjee.csv')

# 1 rice 2 curry
for i in range(100,1001,5):
    data={
    'event':['shadi'],
    'total_people':[i],
    'city':['karachi'],
    'rice':[1],
    'curry':[2],
    'sea_food':[0],
    'bbq':[0],
    'dessert':[0],
    'dish_name':['biryani'],
    'dish_type':['rice'],
    'amount':[math.ceil((i*(random.randrange(10,12)))/100)]
    }
    dict_data= pd.DataFrame.from_dict(data)
    df=df.append(dict_data,sort=False)
    df.to_csv('deghjee.csv') 
    
 #
 for i in range(100,1001,5):
    data={
    'event':['shadi'],
    'total_people':[i],
    'city':['karachi'],
    'rice':[1],
    'curry':[0],
    'sea_food':[1],
    'bbq':[0],
    'dessert':[0],
    'dish_name':['biryani'],
    'dish_type':['rice'],
    'amount':[math.ceil((i*(random.randrange(10,12)))/100)]
    }
    dict_data= pd.DataFrame.from_dict(data)
    df=df.append(dict_data,sort=False)
    df.to_csv('deghjee.csv')
    
    #
    for i in range(100,1001,5):
    data={
    'event':['shadi'],
    'total_people':[i],
    'city':['karachi'],
    'rice':[1],
    'curry':[0],
    'sea_food':[2],
    'bbq':[0],
    'dessert':[0],
    'dish_name':['biryani'],
    'dish_type':['rice'],
    'amount':[math.ceil((i*(random.randrange(10,12)))/100)]
    }
    dict_data= pd.DataFrame.from_dict(data)
    df=df.append(dict_data,sort=False)
    df.to_csv('deghjee.csv')
    
    #
    for i in range(100,1001,5):
    data={
    'event':['shadi'],
    'total_people':[i],
    'city':['karachi'],
    'rice':[1],
    'curry':[0],
    'sea_food':[0],
    'bbq':[1],
    'dessert':[0],
    'dish_name':['biryani'],
    'dish_type':['rice'],
    'amount':[math.ceil((i*(random.randrange(10,12)))/100)]
    }
    dict_data= pd.DataFrame.from_dict(data)
    df=df.append(dict_data,sort=False)
    df.to_csv('deghjee.csv')
    
    #
    for i in range(100,1001,5):
    data={
    'event':['shadi'],
    'total_people':[i],
    'city':['karachi'],
    'rice':[1],
    'curry':[0],
    'sea_food':[0],
    'bbq':[2],
    'dessert':[0],
    'dish_name':['biryani'],
    'dish_type':['rice'],
    'amount':[math.ceil((i*(random.randrange(10,12)))/100)]
    }
    dict_data= pd.DataFrame.from_dict(data)
    df=df.append(dict_data,sort=False)
    df.to_csv('deghjee.csv')
    
    #
    for i in range(100,1001,5):
    data={
    'event':['shadi'],
    'total_people':[i],
    'city':['karachi'],
    'rice':[1],
    'curry':[0],
    'sea_food':[0],
    'bbq':[3],
    'dessert':[0],
    'dish_name':['biryani'],
    'dish_type':['rice'],
    'amount':[math.ceil((i*(random.randrange(10,12)))/100)]
    }
    dict_data= pd.DataFrame.from_dict(data)
    df=df.append(dict_data,sort=False)
    df.to_csv('deghjee.csv')
    
    #
    for i in range(100,1001,5):
    data={
    'event':['shadi'],
    'total_people':[i],
    'city':['karachi'],
    'rice':[1],
    'curry':[0],
    'sea_food':[0],
    'bbq':[0],
    'dessert':[1],
    'dish_name':['biryani'],
    'dish_type':['rice'],
    'amount':[math.ceil((i*(random.randrange(10,12)))/100)]
    }
    dict_data= pd.DataFrame.from_dict(data)
    df=df.append(dict_data,sort=False)
    df.to_csv('deghjee.csv')
    
    #
    for i in range(100,1001,5):
    data={
    'event':['shadi'],
    'total_people':[i],
    'city':['karachi'],
    'rice':[1],
    'curry':[0],
    'sea_food':[0],
    'bbq':[0],
    'dessert':[2],
    'dish_name':['biryani'],
    'dish_type':['rice'],
    'amount':[math.ceil((i*(random.randrange(10,12)))/100)]
    }
    dict_data= pd.DataFrame.from_dict(data)
    df=df.append(dict_data,sort=False)
    df.to_csv('deghjee.csv')
    
    #
    for i in range(100,1001,5):
    data={
    'event':['shadi'],
    'total_people':[i],
    'city':['karachi'],
    'rice':[1],
    'curry':[1],
    'sea_food':[1],
    'bbq':[0],
    'dessert':[0],
    'dish_name':['biryani'],
    'dish_type':['rice'],
    'amount':[math.ceil((i*(random.randrange(10,12)))/100)]
    }
    dict_data= pd.DataFrame.from_dict(data)
    df=df.append(dict_data,sort=False)
    df.to_csv('deghjee.csv')
    
    #
    for i in range(100,1001,5):
    data={
    'event':['shadi'],
    'total_people':[i],
    'city':['karachi'],
    'rice':[1],
    'curry':[1],
    'sea_food':[2],
    'bbq':[0],
    'dessert':[0],
    'dish_name':['biryani'],
    'dish_type':['rice'],
    'amount':[math.ceil((i*(random.randrange(10,12)))/100)]
    }
    dict_data= pd.DataFrame.from_dict(data)
    df=df.append(dict_data,sort=False)
    df.to_csv('deghjee.csv')
    
    #
    for i in range(100,1001,5):
    data={
    'event':['shadi'],
    'total_people':[i],
    'city':['karachi'],
    'rice':[1],
    'curry':[1],
    'sea_food':[1],
    'bbq':[1],
    'dessert':[0],
    'dish_name':['biryani'],
    'dish_type':['rice'],
    'amount':[math.ceil((i*(random.randrange(10,12)))/100)]
    }
    dict_data= pd.DataFrame.from_dict(data)
    df=df.append(dict_data,sort=False)
    df.to_csv('deghjee.csv')
    
    #
    for i in range(100,1001,5):
    data={
    'event':['shadi'],
    'total_people':[i],
    'city':['karachi'],
    'rice':[1],
    'curry':[1],
    'sea_food':[1],
    'bbq':[2],
    'dessert':[0],
    'dish_name':['biryani'],
    'dish_type':['rice'],
    'amount':[math.ceil((i*(random.randrange(10,12)))/100)]
    }
    dict_data= pd.DataFrame.from_dict(data)
    df=df.append(dict_data,sort=False)
    df.to_csv('deghjee.csv')
    
    #
    for i in range(100,1001,5):
    data={
    'event':['shadi'],
    'total_people':[i],
    'city':['karachi'],
    'rice':[1],
    'curry':[1],
    'sea_food':[1],
    'bbq':[3],
    'dessert':[0],
    'dish_name':['biryani'],
    'dish_type':['rice'],
    'amount':[math.ceil((i*(random.randrange(10,12)))/100)]
    }
    dict_data= pd.DataFrame.from_dict(data)
    df=df.append(dict_data,sort=False)
    df.to_csv('deghjee.csv')
    
    #
    for i in range(100,1001,5):
    data={
    'event':['shadi'],
    'total_people':[i],
    'city':['karachi'],
    'rice':[1],
    'curry':[1],
    'sea_food':[1],
    'bbq':[1],
    'dessert':[1],
    'dish_name':['biryani'],
    'dish_type':['rice'],
    'amount':[math.ceil((i*(random.randrange(10,12)))/100)]
    }
    dict_data= pd.DataFrame.from_dict(data)
    df=df.append(dict_data,sort=False)
    df.to_csv('deghjee.csv')
    
    #
    for i in range(100,1001,5):
    data={
    'event':['shadi'],
    'total_people':[i],
    'city':['karachi'],
    'rice':[1],
    'curry':[1],
    'sea_food':[1],
    'bbq':[1],
    'dessert':[2],
    'dish_name':['biryani'],
    'dish_type':['rice'],
    'amount':[math.ceil((i*(random.randrange(10,12)))/100)]
    }
    dict_data= pd.DataFrame.from_dict(data)
    df=df.append(dict_data,sort=False)
    df.to_csv('deghjee.csv')
    
    #
    for i in range(100,1001,5):
    data={
    'event':['shadi'],
    'total_people':[i],
    'city':['karachi'],
    'rice':[1],
    'curry':[1],
    'sea_food':[1],
    'bbq':[2],
    'dessert':[1],
    'dish_name':['biryani'],
    'dish_type':['rice'],
    'amount':[math.ceil((i*(random.randrange(10,12)))/100)]
    }
    dict_data= pd.DataFrame.from_dict(data)
    df=df.append(dict_data,sort=False)
    df.to_csv('deghjee.csv')
    
    #
    for i in range(100,1001,5):
    data={
    'event':['shadi'],
    'total_people':[i],
    'city':['karachi'],
    'rice':[1],
    'curry':[1],
    'sea_food':[1],
    'bbq':[2],
    'dessert':[2],
    'dish_name':['biryani'],
    'dish_type':['rice'],
    'amount':[math.ceil((i*(random.randrange(10,12)))/100)]
    }
    dict_data= pd.DataFrame.from_dict(data)
    df=df.append(dict_data,sort=False)
    df.to_csv('deghjee.csv')
    
    #
    for i in range(100,1001,5):
    data={
    'event':['shadi'],
    'total_people':[i],
    'city':['karachi'],
    'rice':[1],
    'curry':[1],
    'sea_food':[1],
    'bbq':[3],
    'dessert':[1],
    'dish_name':['biryani'],
    'dish_type':['rice'],
    'amount':[math.ceil((i*(random.randrange(10,12)))/100)]
    }
    dict_data= pd.DataFrame.from_dict(data)
    df=df.append(dict_data,sort=False)
    df.to_csv('deghjee.csv')
    
    #
    for i in range(100,1001,5):
    data={
    'event':['shadi'],
    'total_people':[i],
    'city':['karachi'],
    'rice':[1],
    'curry':[1],
    'sea_food':[1],
    'bbq':[3],
    'dessert':[2],
    'dish_name':['biryani'],
    'dish_type':['rice'],
    'amount':[math.ceil((i*(random.randrange(10,12)))/100)]
    }
    dict_data= pd.DataFrame.from_dict(data)
    df=df.append(dict_data,sort=False)
    df.to_csv('deghjee.csv')
    
    #
    for i in range(100,1001,5):
    data={
    'event':['shadi'],
    'total_people':[i],
    'city':['karachi'],
    'rice':[1],
    'curry':[1],
    'sea_food':[2],
    'bbq':[1],
    'dessert':[1],
    'dish_name':['biryani'],
    'dish_type':['rice'],
    'amount':[math.ceil((i*(random.randrange(10,12)))/100)]
    }
    dict_data= pd.DataFrame.from_dict(data)
    df=df.append(dict_data,sort=False)
    df.to_csv('deghjee.csv')
    
    #
    for i in range(100,1001,5):
    data={
    'event':['shadi'],
    'total_people':[i],
    'city':['karachi'],
    'rice':[1],
    'curry':[1],
    'sea_food':[2],
    'bbq':[1],
    'dessert':[2],
    'dish_name':['biryani'],
    'dish_type':['rice'],
    'amount':[math.ceil((i*(random.randrange(10,12)))/100)]
    }
    dict_data= pd.DataFrame.from_dict(data)
    df=df.append(dict_data,sort=False)
    df.to_csv('deghjee.csv')
    
    #
    for i in range(100,1001,5):
    data={
    'event':['shadi'],
    'total_people':[i],
    'city':['karachi'],
    'rice':[1],
    'curry':[1],
    'sea_food':[2],
    'bbq':[2],
    'dessert':[1],
    'dish_name':['biryani'],
    'dish_type':['rice'],
    'amount':[math.ceil((i*(random.randrange(10,12)))/100)]
    }
    dict_data= pd.DataFrame.from_dict(data)
    df=df.append(dict_data,sort=False)
    df.to_csv('deghjee.csv')
    
    #
    for i in range(100,1001,5):
    data={
    'event':['shadi'],
    'total_people':[i],
    'city':['karachi'],
    'rice':[1],
    'curry':[1],
    'sea_food':[2],
    'bbq':[2],
    'dessert':[2],
    'dish_name':['biryani'],
    'dish_type':['rice'],
    'amount':[math.ceil((i*(random.randrange(10,12)))/100)]
    }
    dict_data= pd.DataFrame.from_dict(data)
    df=df.append(dict_data,sort=False)
    df.to_csv('deghjee.csv')
    
    #
    for i in range(100,1001,5):
    data={
    'event':['shadi'],
    'total_people':[i],
    'city':['karachi'],
    'rice':[1],
    'curry':[1],
    'sea_food':[2],
    'bbq':[3],
    'dessert':[1],
    'dish_name':['biryani'],
    'dish_type':['rice'],
    'amount':[math.ceil((i*(random.randrange(10,12)))/100)]
    }
    dict_data= pd.DataFrame.from_dict(data)
    df=df.append(dict_data,sort=False)
    df.to_csv('deghjee.csv')
    
    #
    for i in range(100,1001,5):
    data={
    'event':['shadi'],
    'total_people':[i],
    'city':['karachi'],
    'rice':[1],
    'curry':[1],
    'sea_food':[2],
    'bbq':[3],
    'dessert':[2],
    'dish_name':['biryani'],
    'dish_type':['rice'],
    'amount':[math.ceil((i*(random.randrange(10,12)))/100)]
    }
    dict_data= pd.DataFrame.from_dict(data)
    df=df.append(dict_data,sort=False)
    df.to_csv('deghjee.csv')
    
    #
    for i in range(100,1001,5):
    data={
    'event':['shadi'],
    'total_people':[i],
    'city':['karachi'],
    'rice':[1],
    'curry':[2],
    'sea_food':[1],
    'bbq':[1],
    'dessert':[1],
    'dish_name':['biryani'],
    'dish_type':['rice'],
    'amount':[math.ceil((i*(random.randrange(10,12)))/100)]
    }
    dict_data= pd.DataFrame.from_dict(data)
    df=df.append(dict_data,sort=False)
    df.to_csv('deghjee.csv')
    
    #
    for i in range(100,1001,5):
    data={
    'event':['shadi'],
    'total_people':[i],
    'city':['karachi'],
    'rice':[1],
    'curry':[2],
    'sea_food':[1],
    'bbq':[1],
    'dessert':[2],
    'dish_name':['biryani'],
    'dish_type':['rice'],
    'amount':[math.ceil((i*(random.randrange(10,12)))/100)]
    }
    dict_data= pd.DataFrame.from_dict(data)
    df=df.append(dict_data,sort=False)
    df.to_csv('deghjee.csv')
    
    #
    for i in range(100,1001,5):
    data={
    'event':['shadi'],
    'total_people':[i],
    'city':['karachi'],
    'rice':[1],
    'curry':[2],
    'sea_food':[1],
    'bbq':[2],
    'dessert':[1],
    'dish_name':['biryani'],
    'dish_type':['rice'],
    'amount':[math.ceil((i*(random.randrange(10,12)))/100)]
    }
    dict_data= pd.DataFrame.from_dict(data)
    df=df.append(dict_data,sort=False)
    df.to_csv('deghjee.csv')
    
    #
    for i in range(100,1001,5):
    data={
    'event':['shadi'],
    'total_people':[i],
    'city':['karachi'],
    'rice':[1],
    'curry':[2],
    'sea_food':[1],
    'bbq':[2],
    'dessert':[2],
    'dish_name':['biryani'],
    'dish_type':['rice'],
    'amount':[math.ceil((i*(random.randrange(10,12)))/100)]
    }
    dict_data= pd.DataFrame.from_dict(data)
    df=df.append(dict_data,sort=False)
    df.to_csv('deghjee.csv')
    
    #
    for i in range(100,1001,5):
    data={
    'event':['shadi'],
    'total_people':[i],
    'city':['karachi'],
    'rice':[1],
    'curry':[2],
    'sea_food':[1],
    'bbq':[3],
    'dessert':[1],
    'dish_name':['biryani'],
    'dish_type':['rice'],
    'amount':[math.ceil((i*(random.randrange(10,12)))/100)]
    }
    dict_data= pd.DataFrame.from_dict(data)
    df=df.append(dict_data,sort=False)
    df.to_csv('deghjee.csv')
    
    #
    for i in range(100,1001,5):
    data={
    'event':['shadi'],
    'total_people':[i],
    'city':['karachi'],
    'rice':[1],
    'curry':[2],
    'sea_food':[1],
    'bbq':[3],
    'dessert':[2],
    'dish_name':['biryani'],
    'dish_type':['rice'],
    'amount':[math.ceil((i*(random.randrange(10,12)))/100)]
    }
    dict_data= pd.DataFrame.from_dict(data)
    df=df.append(dict_data,sort=False)
    df.to_csv('deghjee.csv')
    
    #
    for i in range(100,1001,5):
    data={
    'event':['shadi'],
    'total_people':[i],
    'city':['karachi'],
    'rice':[1],
    'curry':[2],
    'sea_food':[2],
    'bbq':[1],
    'dessert':[1],
    'dish_name':['biryani'],
    'dish_type':['rice'],
    'amount':[math.ceil((i*(random.randrange(10,12)))/100)]
    }
    dict_data= pd.DataFrame.from_dict(data)
    df=df.append(dict_data,sort=False)
    df.to_csv('deghjee.csv')
    
    #
    for i in range(100,1001,5):
    data={
    'event':['shadi'],
    'total_people':[i],
    'city':['karachi'],
    'rice':[1],
    'curry':[2],
    'sea_food':[2],
    'bbq':[1],
    'dessert':[2],
    'dish_name':['biryani'],
    'dish_type':['rice'],
    'amount':[math.ceil((i*(random.randrange(10,12)))/100)]
    }
    dict_data= pd.DataFrame.from_dict(data)
    df=df.append(dict_data,sort=False)
    df.to_csv('deghjee.csv')
